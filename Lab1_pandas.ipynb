{
 "cells": [
  {
   "cell_type": "markdown",
   "metadata": {
    "colab_type": "text",
    "id": "gtyGsN41cJfW"
   },
   "source": [
    "# Введение"
   ]
  },
  {
   "cell_type": "markdown",
   "metadata": {
    "colab_type": "text",
    "id": "xwcgtnoLEzw3"
   },
   "source": [
    "Для выполнения лабораторных работ используется Jupyter Notebook. В Jupyter notebook вы можете разрабатывать, документировать и выполнять приложения на языке Python, он состоит из двух компонентов: веб-приложение, запускаемое в браузере, и ноутбуки – файлы, в которых можно работать с исходным кодом программы, запускать его, вводить и выводить данные и т.п.\n",
    "\n",
    "Веб приложение позволяет:\n",
    "\n",
    "*    редактировать Python код в браузере, с подсветкой синтаксиса, автоотступами и автодополнением;\n",
    "*    запускать код в браузере;\n",
    "*    отображать результаты вычислений с медиа представлением (схемы, графики);\n",
    "*    работать с языком разметки Markdown и LaTeX.\n",
    "\n",
    "Ноутбуки – это файлы, в которых сохраняются исходный код, входные и выходные данные\n",
    "\n",
    "Ноутбук состоит из ячеек (строк). Каждая ячейка может содежать код или текст. Добавляя ячеку вы выбираете какого типа ячейка вам нужна: +Code или +Text. Под кодом мы подразумеваем код, написанный на языке Python или системные команды (для системных команд перед ними ставится !)\n",
    "В текстовых строках можно ввести любой текст с определенным форматированием, html и математические формулы.\n",
    "\n"
   ]
  },
  {
   "cell_type": "markdown",
   "metadata": {
    "colab_type": "text",
    "id": "DO4doOdyab53"
   },
   "source": [
    "Для начала решим простую арифметическую задачу: добавьте строчку “Code”, введите в ячейке “2 + 3” без кавычек и нажмите Ctrl+Enter или Shift+Enter, в первом случае введенный вами код будет выполнен интерпретатором Python, во втором – будет выполнен код и создана новая ячейка, которая расположится уровнем ниже.\n",
    "\n",
    "Если ваша программа зависла, то можно прервать ее выполнение выбрав на панели меню пункт Kernel -> Interrupt."
   ]
  },
  {
   "cell_type": "code",
   "execution_count": 1,
   "metadata": {
    "colab": {
     "base_uri": "https://localhost:8080/",
     "height": 34
    },
    "colab_type": "code",
    "executionInfo": {
     "elapsed": 652,
     "status": "ok",
     "timestamp": 1567676893494,
     "user": {
      "displayName": "Наталья Добренко",
      "photoUrl": "",
      "userId": "17998022496307458770"
     },
     "user_tz": -180
    },
    "id": "ddslOivd0pqD",
    "outputId": "8afc81ac-fbcd-4c68-e254-4677f2db04d0"
   },
   "outputs": [
    {
     "data": {
      "text/plain": [
       "14"
      ]
     },
     "execution_count": 1,
     "metadata": {},
     "output_type": "execute_result"
    }
   ],
   "source": [
    "11+3"
   ]
  },
  {
   "cell_type": "code",
   "execution_count": 2,
   "metadata": {},
   "outputs": [],
   "source": [
    "import math"
   ]
  },
  {
   "cell_type": "code",
   "execution_count": 3,
   "metadata": {},
   "outputs": [
    {
     "data": {
      "text/plain": [
       "2.718281828459045"
      ]
     },
     "execution_count": 3,
     "metadata": {},
     "output_type": "execute_result"
    }
   ],
   "source": [
    "math.e"
   ]
  },
  {
   "cell_type": "code",
   "execution_count": 4,
   "metadata": {
    "colab": {
     "base_uri": "https://localhost:8080/",
     "height": 34
    },
    "colab_type": "code",
    "executionInfo": {
     "elapsed": 1456,
     "status": "ok",
     "timestamp": 1567676840422,
     "user": {
      "displayName": "Наталья Добренко",
      "photoUrl": "",
      "userId": "17998022496307458770"
     },
     "user_tz": -180
    },
    "id": "bAPdJNCgEx1x",
    "outputId": "b774032f-e1d2-4cc1-f0fc-1796252c3a51"
   },
   "outputs": [
    {
     "data": {
      "text/plain": [
       "15"
      ]
     },
     "execution_count": 4,
     "metadata": {},
     "output_type": "execute_result"
    }
   ],
   "source": [
    "12+3"
   ]
  },
  {
   "cell_type": "code",
   "execution_count": 5,
   "metadata": {
    "colab": {
     "base_uri": "https://localhost:8080/",
     "height": 34
    },
    "colab_type": "code",
    "executionInfo": {
     "elapsed": 853,
     "status": "ok",
     "timestamp": 1567619955554,
     "user": {
      "displayName": "Лариса Кожекина",
      "photoUrl": "",
      "userId": "00598619623793150933"
     },
     "user_tz": -180
    },
    "id": "nTffd9vqYEF_",
    "outputId": "af686c04-da57-4c6f-8cb3-7b3d044c2e1f"
   },
   "outputs": [
    {
     "data": {
      "text/plain": [
       "5"
      ]
     },
     "execution_count": 5,
     "metadata": {},
     "output_type": "execute_result"
    }
   ],
   "source": [
    "2+3"
   ]
  },
  {
   "cell_type": "code",
   "execution_count": 6,
   "metadata": {},
   "outputs": [
    {
     "name": "stdout",
     "output_type": "stream",
     "text": [
      "0\n",
      "1\n",
      "2\n",
      "3\n",
      "4\n",
      "5\n",
      "6\n",
      "7\n",
      "8\n",
      "9\n"
     ]
    }
   ],
   "source": [
    "for i in range(10):\n",
    "    print(i)"
   ]
  },
  {
   "cell_type": "code",
   "execution_count": 7,
   "metadata": {},
   "outputs": [
    {
     "name": "stdout",
     "output_type": "stream",
     "text": [
      "0\n",
      "1\n",
      "2\n",
      "3\n",
      "4\n",
      "5\n",
      "6\n",
      "7\n",
      "8\n",
      "9\n"
     ]
    }
   ],
   "source": [
    "i = 0\n",
    "while i < 10:\n",
    "    print(i)\n",
    "    i += 1"
   ]
  },
  {
   "cell_type": "code",
   "execution_count": 8,
   "metadata": {},
   "outputs": [
    {
     "data": {
      "text/plain": [
       "11"
      ]
     },
     "execution_count": 8,
     "metadata": {},
     "output_type": "execute_result"
    }
   ],
   "source": [
    "10+1"
   ]
  },
  {
   "cell_type": "markdown",
   "metadata": {
    "colab_type": "text",
    "id": "DqJugbmJYSFB"
   },
   "source": [
    "Следующим шагом переназовем ноутбук.\n",
    "У каждого ноутбука есть имя, оно отображается в верхней части экрана. Для изменения имени нажмите на его текущее имя и поменяйте название ноутбука на Lab1_Фамилия_Группа.ipynb"
   ]
  },
  {
   "cell_type": "markdown",
   "metadata": {
    "colab_type": "text",
    "id": "MYsEMLI9u7B5"
   },
   "source": [
    "Дополнительную справочную информацию по работе в ноубуках можно посмотреть в интернете."
   ]
  },
  {
   "cell_type": "code",
   "execution_count": null,
   "metadata": {
    "colab": {},
    "colab_type": "code",
    "id": "Zy2Uvd6OuWCc"
   },
   "outputs": [],
   "source": []
  },
  {
   "cell_type": "markdown",
   "metadata": {
    "colab_type": "text",
    "id": "p7isANkjcCZ6"
   },
   "source": [
    "#Основы Pandas"
   ]
  },
  {
   "cell_type": "markdown",
   "metadata": {
    "colab_type": "text",
    "id": "sjJVY4CYcxNW"
   },
   "source": [
    "Pandas - это библиотека Python, предоставляющая широкие возможности для анализа данных. С ее помощью очень удобно загружать, обрабатывать и анализировать табличные данные с помощью SQL-подобных запросов. В связке с библиотеками Matplotlib и Seaborn появляется возможность удобного визуального анализа табличных данных.\n"
   ]
  },
  {
   "cell_type": "markdown",
   "metadata": {
    "colab_type": "text",
    "id": "G5ABRBGldX6c"
   },
   "source": [
    "Для использования библиотек их необходимо импортировать, что можно сделать с помощью команды import. После ключевого слова import указывается название библиотеки, а после as - ее краткое название (алиас), которое мы будем использовать в коде для краткого обозначения этой библиотеки."
   ]
  },
  {
   "cell_type": "code",
   "execution_count": 10,
   "metadata": {
    "colab": {},
    "colab_type": "code",
    "id": "yslJCsMpcHZW"
   },
   "outputs": [],
   "source": [
    "import pandas as pd"
   ]
  },
  {
   "cell_type": "markdown",
   "metadata": {
    "colab_type": "text",
    "id": "zIg8XEVteZe_"
   },
   "source": [
    "Основными структурами данных в Pandas являются классы Series и DataFrame. Первый из них представляет собой одномерный индексированный массив данных некоторого фиксированного типа (его можно интеерпретировать как индексированный столбец таблицы). Второй - это двухмерная структура данных, представляющая собой таблицу, каждый столбец которой содержит данные одного типа. Можно представлять её как словарь объектов типа Series. Структура DataFrame отлично подходит для представления реальных данных: строки соответствуют признаковым описаниям отдельных объектов, а столбцы соответствуют признакам."
   ]
  },
  {
   "cell_type": "markdown",
   "metadata": {
    "colab_type": "text",
    "id": "m7BEyqMjs8L-"
   },
   "source": [
    "## Чтение из файла и первичный анализ\n",
    "Чаще всего, данные, которые мы будем анализировать, готовить  и использовать для обучения моделей, не формируются самостоятельно, а берутся из готового дататсета. Рассмотрим чтение датасета (DataFrame) из файла с расширением csv. В качестве примера возьмем titanic_train.csv, который содержить данные о пассажирах Титаника. Полный датасет titanic был разделен на 2 части - тренировочную и тестовую. Именно с тренировочной частью мы и будем работать. Датасет titanic предоставлен в рабочей папке Лаб_1, а также вы можете его скачать (titanic_train.csv) по ссылке https://www.kaggle.com/tedllh/titanic-train#titanic_train.csv. Если вы работаете на платформе Goggle Colab, необходимо сделать upload файла в вашу рабочую директорию ( в меню ноутбука слева  найти и перейти на Files, нажать Upload и выбрать файл для загрузки)\n",
    "\n",
    "Внимание! Проверьте, что файл находиться в папке content, если его там нет, то нажмите на нее правой кнопкой и upload. \n"
   ]
  },
  {
   "cell_type": "markdown",
   "metadata": {
    "colab_type": "text",
    "id": "-W69sFlrtNtF"
   },
   "source": [
    "#Чтение данных"
   ]
  },
  {
   "cell_type": "markdown",
   "metadata": {
    "colab_type": "text",
    "id": "2uCoeFJoqWpa"
   },
   "source": [
    "Для чтения csv файла используем функцию pd.read_csv"
   ]
  },
  {
   "cell_type": "code",
   "execution_count": 12,
   "metadata": {
    "colab": {},
    "colab_type": "code",
    "id": "xqXF6_9LqpRn"
   },
   "outputs": [],
   "source": [
    "import pandas as pd\n",
    "df = pd.read_csv('titanic_train.csv')"
   ]
  },
  {
   "cell_type": "markdown",
   "metadata": {
    "colab_type": "text",
    "id": "6rtdfLfItnIc"
   },
   "source": [
    "Посмотрим тип переменной df"
   ]
  },
  {
   "cell_type": "code",
   "execution_count": 13,
   "metadata": {
    "colab": {
     "base_uri": "https://localhost:8080/",
     "height": 34
    },
    "colab_type": "code",
    "executionInfo": {
     "elapsed": 664,
     "status": "ok",
     "timestamp": 1567677916981,
     "user": {
      "displayName": "Наталья Добренко",
      "photoUrl": "",
      "userId": "17998022496307458770"
     },
     "user_tz": -180
    },
    "id": "KspQ_kC8tl3D",
    "outputId": "3ad35695-2b41-492b-b3c0-89ae627d67fa"
   },
   "outputs": [
    {
     "data": {
      "text/plain": [
       "pandas.core.frame.DataFrame"
      ]
     },
     "execution_count": 13,
     "metadata": {},
     "output_type": "execute_result"
    }
   ],
   "source": [
    "type(df)"
   ]
  },
  {
   "cell_type": "markdown",
   "metadata": {
    "colab_type": "text",
    "id": "-ryV8-iUMc1O"
   },
   "source": [
    "### Первичный анализ"
   ]
  },
  {
   "cell_type": "markdown",
   "metadata": {
    "colab_type": "text",
    "id": "11Jgrd0KtwgV"
   },
   "source": [
    "После того, как мы считали данные, посмотрим первые несколько записей датафрейма (если в скобках после функции head не указать нужное количество записей, то по умолчанию будут выведены первые 5 записей датафрейма). Если вместо таблицы вы видите  \"кашу\" из данных, разделенных \";\", значит, ваш csv файл использует в качестве разделителя \";\", а не \",\". И для корректного чтения данных, нужно задать разделитель в функции чтения, например df = pd.read_csv('proba.csv', sep=\";\")"
   ]
  },
  {
   "cell_type": "code",
   "execution_count": 14,
   "metadata": {
    "colab": {
     "base_uri": "https://localhost:8080/",
     "height": 906
    },
    "colab_type": "code",
    "executionInfo": {
     "elapsed": 665,
     "status": "ok",
     "timestamp": 1567678047205,
     "user": {
      "displayName": "Наталья Добренко",
      "photoUrl": "",
      "userId": "17998022496307458770"
     },
     "user_tz": -180
    },
    "id": "QmXrbhoTuJRG",
    "outputId": "61c668ad-88bf-4155-8857-03cc5b1c8b41"
   },
   "outputs": [
    {
     "data": {
      "text/html": [
       "<div>\n",
       "<style scoped>\n",
       "    .dataframe tbody tr th:only-of-type {\n",
       "        vertical-align: middle;\n",
       "    }\n",
       "\n",
       "    .dataframe tbody tr th {\n",
       "        vertical-align: top;\n",
       "    }\n",
       "\n",
       "    .dataframe thead th {\n",
       "        text-align: right;\n",
       "    }\n",
       "</style>\n",
       "<table border=\"1\" class=\"dataframe\">\n",
       "  <thead>\n",
       "    <tr style=\"text-align: right;\">\n",
       "      <th></th>\n",
       "      <th>PassengerId</th>\n",
       "      <th>Survived</th>\n",
       "      <th>Pclass</th>\n",
       "      <th>Name</th>\n",
       "      <th>Sex</th>\n",
       "      <th>Age</th>\n",
       "      <th>SibSp</th>\n",
       "      <th>Parch</th>\n",
       "      <th>Ticket</th>\n",
       "      <th>Fare</th>\n",
       "      <th>Cabin</th>\n",
       "      <th>Embarked</th>\n",
       "    </tr>\n",
       "  </thead>\n",
       "  <tbody>\n",
       "    <tr>\n",
       "      <td>0</td>\n",
       "      <td>1</td>\n",
       "      <td>0</td>\n",
       "      <td>3</td>\n",
       "      <td>Braund, Mr. Owen Harris</td>\n",
       "      <td>male</td>\n",
       "      <td>22.0</td>\n",
       "      <td>1</td>\n",
       "      <td>0</td>\n",
       "      <td>A/5 21171</td>\n",
       "      <td>7.2500</td>\n",
       "      <td>NaN</td>\n",
       "      <td>S</td>\n",
       "    </tr>\n",
       "    <tr>\n",
       "      <td>1</td>\n",
       "      <td>2</td>\n",
       "      <td>1</td>\n",
       "      <td>1</td>\n",
       "      <td>Cumings, Mrs. John Bradley (Florence Briggs Th...</td>\n",
       "      <td>female</td>\n",
       "      <td>38.0</td>\n",
       "      <td>1</td>\n",
       "      <td>0</td>\n",
       "      <td>PC 17599</td>\n",
       "      <td>71.2833</td>\n",
       "      <td>C85</td>\n",
       "      <td>C</td>\n",
       "    </tr>\n",
       "    <tr>\n",
       "      <td>2</td>\n",
       "      <td>3</td>\n",
       "      <td>1</td>\n",
       "      <td>3</td>\n",
       "      <td>Heikkinen, Miss. Laina</td>\n",
       "      <td>female</td>\n",
       "      <td>26.0</td>\n",
       "      <td>0</td>\n",
       "      <td>0</td>\n",
       "      <td>STON/O2. 3101282</td>\n",
       "      <td>7.9250</td>\n",
       "      <td>NaN</td>\n",
       "      <td>S</td>\n",
       "    </tr>\n",
       "    <tr>\n",
       "      <td>3</td>\n",
       "      <td>4</td>\n",
       "      <td>1</td>\n",
       "      <td>1</td>\n",
       "      <td>Futrelle, Mrs. Jacques Heath (Lily May Peel)</td>\n",
       "      <td>female</td>\n",
       "      <td>35.0</td>\n",
       "      <td>1</td>\n",
       "      <td>0</td>\n",
       "      <td>113803</td>\n",
       "      <td>53.1000</td>\n",
       "      <td>C123</td>\n",
       "      <td>S</td>\n",
       "    </tr>\n",
       "    <tr>\n",
       "      <td>4</td>\n",
       "      <td>5</td>\n",
       "      <td>0</td>\n",
       "      <td>3</td>\n",
       "      <td>Allen, Mr. William Henry</td>\n",
       "      <td>male</td>\n",
       "      <td>35.0</td>\n",
       "      <td>0</td>\n",
       "      <td>0</td>\n",
       "      <td>373450</td>\n",
       "      <td>8.0500</td>\n",
       "      <td>NaN</td>\n",
       "      <td>S</td>\n",
       "    </tr>\n",
       "    <tr>\n",
       "      <td>5</td>\n",
       "      <td>6</td>\n",
       "      <td>0</td>\n",
       "      <td>3</td>\n",
       "      <td>Moran, Mr. James</td>\n",
       "      <td>male</td>\n",
       "      <td>NaN</td>\n",
       "      <td>0</td>\n",
       "      <td>0</td>\n",
       "      <td>330877</td>\n",
       "      <td>8.4583</td>\n",
       "      <td>NaN</td>\n",
       "      <td>Q</td>\n",
       "    </tr>\n",
       "    <tr>\n",
       "      <td>6</td>\n",
       "      <td>7</td>\n",
       "      <td>0</td>\n",
       "      <td>1</td>\n",
       "      <td>McCarthy, Mr. Timothy J</td>\n",
       "      <td>male</td>\n",
       "      <td>54.0</td>\n",
       "      <td>0</td>\n",
       "      <td>0</td>\n",
       "      <td>17463</td>\n",
       "      <td>51.8625</td>\n",
       "      <td>E46</td>\n",
       "      <td>S</td>\n",
       "    </tr>\n",
       "    <tr>\n",
       "      <td>7</td>\n",
       "      <td>8</td>\n",
       "      <td>0</td>\n",
       "      <td>3</td>\n",
       "      <td>Palsson, Master. Gosta Leonard</td>\n",
       "      <td>male</td>\n",
       "      <td>2.0</td>\n",
       "      <td>3</td>\n",
       "      <td>1</td>\n",
       "      <td>349909</td>\n",
       "      <td>21.0750</td>\n",
       "      <td>NaN</td>\n",
       "      <td>S</td>\n",
       "    </tr>\n",
       "    <tr>\n",
       "      <td>8</td>\n",
       "      <td>9</td>\n",
       "      <td>1</td>\n",
       "      <td>3</td>\n",
       "      <td>Johnson, Mrs. Oscar W (Elisabeth Vilhelmina Berg)</td>\n",
       "      <td>female</td>\n",
       "      <td>27.0</td>\n",
       "      <td>0</td>\n",
       "      <td>2</td>\n",
       "      <td>347742</td>\n",
       "      <td>11.1333</td>\n",
       "      <td>NaN</td>\n",
       "      <td>S</td>\n",
       "    </tr>\n",
       "    <tr>\n",
       "      <td>9</td>\n",
       "      <td>10</td>\n",
       "      <td>1</td>\n",
       "      <td>2</td>\n",
       "      <td>Nasser, Mrs. Nicholas (Adele Achem)</td>\n",
       "      <td>female</td>\n",
       "      <td>14.0</td>\n",
       "      <td>1</td>\n",
       "      <td>0</td>\n",
       "      <td>237736</td>\n",
       "      <td>30.0708</td>\n",
       "      <td>NaN</td>\n",
       "      <td>C</td>\n",
       "    </tr>\n",
       "  </tbody>\n",
       "</table>\n",
       "</div>"
      ],
      "text/plain": [
       "   PassengerId  Survived  Pclass  \\\n",
       "0            1         0       3   \n",
       "1            2         1       1   \n",
       "2            3         1       3   \n",
       "3            4         1       1   \n",
       "4            5         0       3   \n",
       "5            6         0       3   \n",
       "6            7         0       1   \n",
       "7            8         0       3   \n",
       "8            9         1       3   \n",
       "9           10         1       2   \n",
       "\n",
       "                                                Name     Sex   Age  SibSp  \\\n",
       "0                            Braund, Mr. Owen Harris    male  22.0      1   \n",
       "1  Cumings, Mrs. John Bradley (Florence Briggs Th...  female  38.0      1   \n",
       "2                             Heikkinen, Miss. Laina  female  26.0      0   \n",
       "3       Futrelle, Mrs. Jacques Heath (Lily May Peel)  female  35.0      1   \n",
       "4                           Allen, Mr. William Henry    male  35.0      0   \n",
       "5                                   Moran, Mr. James    male   NaN      0   \n",
       "6                            McCarthy, Mr. Timothy J    male  54.0      0   \n",
       "7                     Palsson, Master. Gosta Leonard    male   2.0      3   \n",
       "8  Johnson, Mrs. Oscar W (Elisabeth Vilhelmina Berg)  female  27.0      0   \n",
       "9                Nasser, Mrs. Nicholas (Adele Achem)  female  14.0      1   \n",
       "\n",
       "   Parch            Ticket     Fare Cabin Embarked  \n",
       "0      0         A/5 21171   7.2500   NaN        S  \n",
       "1      0          PC 17599  71.2833   C85        C  \n",
       "2      0  STON/O2. 3101282   7.9250   NaN        S  \n",
       "3      0            113803  53.1000  C123        S  \n",
       "4      0            373450   8.0500   NaN        S  \n",
       "5      0            330877   8.4583   NaN        Q  \n",
       "6      0             17463  51.8625   E46        S  \n",
       "7      1            349909  21.0750   NaN        S  \n",
       "8      2            347742  11.1333   NaN        S  \n",
       "9      0            237736  30.0708   NaN        C  "
      ]
     },
     "execution_count": 14,
     "metadata": {},
     "output_type": "execute_result"
    }
   ],
   "source": [
    "df.head(10)"
   ]
  },
  {
   "cell_type": "markdown",
   "metadata": {
    "colab_type": "text",
    "id": "kUufGVpKvk1A"
   },
   "source": [
    "Давайте посмотрим, что это за данные. Достаточно часто датасеты имеют краткое описание содержимого. Например, что означает тот или иной столбец, какие значения используются для заполнения и т.д. Или значения признаков интуитивно понятны. В нашем случае, мы имеем следующие данные:\n",
    "каждая строка - это сведения об отдельном пассажире. Строка содержит:\n",
    "*   PassengerId - идентификатор пассажира (проще говоря, порядковый номер строки)\n",
    "*   Survived - признак, выжил ли пассажир после крушения (0 - погиб, 1 - выжил)\n",
    "*   Pclass - в каком классе ехал пассажир (1, 2 или 3)\n",
    "*   Name - имя пассажира\n",
    "*   Sex - пол (male - мужской, female - женский)\n",
    "*   Age - возраст\n",
    "*   SibSp - количество родственников (по горизонтали - супруг, братья, сестры) на борту\n",
    "*   Parch - количество родственников (по вертикали - родители, дети) на борту \n",
    "*   Ticket - номер билета\n",
    "*   Fare - цена билета\n",
    "*   Cabin - номер каюты\n",
    "*   Embarked - порт посадки (C — Cherbourg, Q — Queenstown, S — Southampton)\n",
    "\n",
    "\n",
    "\n"
   ]
  },
  {
   "cell_type": "markdown",
   "metadata": {
    "colab_type": "text",
    "id": "MBgJoJYD4HCf"
   },
   "source": [
    "Команда shape() показывате размерность датафрейма"
   ]
  },
  {
   "cell_type": "markdown",
   "metadata": {
    "colab_type": "text",
    "id": "Lpg2DdiN4NL9"
   },
   "source": [
    "Мы видим, что в нашем датафрейме 891 строка (то есть, сведения о 891 пассажире) и 12 столбцов признаков"
   ]
  },
  {
   "cell_type": "code",
   "execution_count": 15,
   "metadata": {
    "colab": {
     "base_uri": "https://localhost:8080/",
     "height": 34
    },
    "colab_type": "code",
    "executionInfo": {
     "elapsed": 656,
     "status": "ok",
     "timestamp": 1567678166163,
     "user": {
      "displayName": "Наталья Добренко",
      "photoUrl": "",
      "userId": "17998022496307458770"
     },
     "user_tz": -180
    },
    "id": "REsrbW9YqmXg",
    "outputId": "8548ea56-5f19-433b-8127-1acf37bce1ea"
   },
   "outputs": [
    {
     "data": {
      "text/plain": [
       "(891, 12)"
      ]
     },
     "execution_count": 15,
     "metadata": {},
     "output_type": "execute_result"
    }
   ],
   "source": [
    "df.shape"
   ]
  },
  {
   "cell_type": "markdown",
   "metadata": {
    "colab_type": "text",
    "id": "16kl-_TqebjJ"
   },
   "source": [
    "Команда columns.values() показывате название всех признаков"
   ]
  },
  {
   "cell_type": "code",
   "execution_count": 16,
   "metadata": {
    "colab": {
     "base_uri": "https://localhost:8080/",
     "height": 51
    },
    "colab_type": "code",
    "executionInfo": {
     "elapsed": 583,
     "status": "ok",
     "timestamp": 1567620703243,
     "user": {
      "displayName": "Лариса Кожекина",
      "photoUrl": "",
      "userId": "00598619623793150933"
     },
     "user_tz": -180
    },
    "id": "8th1M4uueUsZ",
    "outputId": "c92bd0f8-c824-4857-9628-f7b01e2c3e85"
   },
   "outputs": [
    {
     "data": {
      "text/plain": [
       "array(['PassengerId', 'Survived', 'Pclass', 'Name', 'Sex', 'Age', 'SibSp',\n",
       "       'Parch', 'Ticket', 'Fare', 'Cabin', 'Embarked'], dtype=object)"
      ]
     },
     "execution_count": 16,
     "metadata": {},
     "output_type": "execute_result"
    }
   ],
   "source": [
    "df.columns.values"
   ]
  },
  {
   "cell_type": "markdown",
   "metadata": {
    "colab_type": "text",
    "id": "ZOnYvyDfEuRr"
   },
   "source": [
    "Также полезно посмотреть метод info, который показывает краткую статистику по набору данных"
   ]
  },
  {
   "cell_type": "code",
   "execution_count": 17,
   "metadata": {
    "colab": {
     "base_uri": "https://localhost:8080/",
     "height": 306
    },
    "colab_type": "code",
    "executionInfo": {
     "elapsed": 646,
     "status": "ok",
     "timestamp": 1567678334773,
     "user": {
      "displayName": "Наталья Добренко",
      "photoUrl": "",
      "userId": "17998022496307458770"
     },
     "user_tz": -180
    },
    "id": "7JonSzixE6Y7",
    "outputId": "10028d65-b909-48bf-8d63-39f1cfd98037"
   },
   "outputs": [
    {
     "name": "stdout",
     "output_type": "stream",
     "text": [
      "<class 'pandas.core.frame.DataFrame'>\n",
      "RangeIndex: 891 entries, 0 to 890\n",
      "Data columns (total 12 columns):\n",
      "PassengerId    891 non-null int64\n",
      "Survived       891 non-null int64\n",
      "Pclass         891 non-null int64\n",
      "Name           891 non-null object\n",
      "Sex            891 non-null object\n",
      "Age            714 non-null float64\n",
      "SibSp          891 non-null int64\n",
      "Parch          891 non-null int64\n",
      "Ticket         891 non-null object\n",
      "Fare           891 non-null float64\n",
      "Cabin          204 non-null object\n",
      "Embarked       889 non-null object\n",
      "dtypes: float64(2), int64(5), object(5)\n",
      "memory usage: 66.2+ KB\n"
     ]
    }
   ],
   "source": [
    "df.info()"
   ]
  },
  {
   "cell_type": "markdown",
   "metadata": {
    "colab_type": "text",
    "id": "4ujf8CzK4bdJ"
   },
   "source": [
    "Можно увидеть, что не все признаки у нас заполнены в каждой строке,для некоторых признаков есть пропуски. Например, у нас 891 строка, а Age (возраст) заполнен только в 714 строках. Совсем мало значений в столбце Cabin. \n",
    "\n",
    "Есть несколько вариантов работы с такими строками: \n",
    "* их можно оставить без изменений, если признак, в котором пропущены данные, малозначим;\n",
    "* можно удалить все строки, в которых есть пустые значения;\n",
    "* можно заполнить их какими-либо значениями (0, медианой или любыми другими константами).\n",
    "\n",
    "Метод info так же показывает какого типа данные в том или ином столбце: цифровые (int или float), текстовые и т.д. В последней строке указан объем памяти, которую занимает датафрейм. При больших объемах данных это позволяет оценить хватит ли вам ресурсов для загрузки в память полного датасета"
   ]
  },
  {
   "cell_type": "markdown",
   "metadata": {
    "colab_type": "text",
    "id": "A28wj4YRH0pc"
   },
   "source": [
    "Еще один полезный метод для начального анализа данных - метод describe(), который выдает краткую статистику по числовым признакам: среднее, стандартное отклонение, минимум, максимум, медианы, квартили и т.д. Самостоятельно посмотрите, что означает каждое понятие. "
   ]
  },
  {
   "cell_type": "code",
   "execution_count": 18,
   "metadata": {
    "colab": {
     "base_uri": "https://localhost:8080/",
     "height": 297
    },
    "colab_type": "code",
    "executionInfo": {
     "elapsed": 647,
     "status": "ok",
     "timestamp": 1567678397464,
     "user": {
      "displayName": "Наталья Добренко",
      "photoUrl": "",
      "userId": "17998022496307458770"
     },
     "user_tz": -180
    },
    "id": "AeSTWWppE4-3",
    "outputId": "6298bd20-5b31-4c6c-8abe-a630f41baed8"
   },
   "outputs": [
    {
     "data": {
      "text/html": [
       "<div>\n",
       "<style scoped>\n",
       "    .dataframe tbody tr th:only-of-type {\n",
       "        vertical-align: middle;\n",
       "    }\n",
       "\n",
       "    .dataframe tbody tr th {\n",
       "        vertical-align: top;\n",
       "    }\n",
       "\n",
       "    .dataframe thead th {\n",
       "        text-align: right;\n",
       "    }\n",
       "</style>\n",
       "<table border=\"1\" class=\"dataframe\">\n",
       "  <thead>\n",
       "    <tr style=\"text-align: right;\">\n",
       "      <th></th>\n",
       "      <th>PassengerId</th>\n",
       "      <th>Survived</th>\n",
       "      <th>Pclass</th>\n",
       "      <th>Age</th>\n",
       "      <th>SibSp</th>\n",
       "      <th>Parch</th>\n",
       "      <th>Fare</th>\n",
       "    </tr>\n",
       "  </thead>\n",
       "  <tbody>\n",
       "    <tr>\n",
       "      <td>count</td>\n",
       "      <td>891.000000</td>\n",
       "      <td>891.000000</td>\n",
       "      <td>891.000000</td>\n",
       "      <td>714.000000</td>\n",
       "      <td>891.000000</td>\n",
       "      <td>891.000000</td>\n",
       "      <td>891.000000</td>\n",
       "    </tr>\n",
       "    <tr>\n",
       "      <td>mean</td>\n",
       "      <td>446.000000</td>\n",
       "      <td>0.383838</td>\n",
       "      <td>2.308642</td>\n",
       "      <td>29.699118</td>\n",
       "      <td>0.523008</td>\n",
       "      <td>0.381594</td>\n",
       "      <td>32.204208</td>\n",
       "    </tr>\n",
       "    <tr>\n",
       "      <td>std</td>\n",
       "      <td>257.353842</td>\n",
       "      <td>0.486592</td>\n",
       "      <td>0.836071</td>\n",
       "      <td>14.526497</td>\n",
       "      <td>1.102743</td>\n",
       "      <td>0.806057</td>\n",
       "      <td>49.693429</td>\n",
       "    </tr>\n",
       "    <tr>\n",
       "      <td>min</td>\n",
       "      <td>1.000000</td>\n",
       "      <td>0.000000</td>\n",
       "      <td>1.000000</td>\n",
       "      <td>0.420000</td>\n",
       "      <td>0.000000</td>\n",
       "      <td>0.000000</td>\n",
       "      <td>0.000000</td>\n",
       "    </tr>\n",
       "    <tr>\n",
       "      <td>25%</td>\n",
       "      <td>223.500000</td>\n",
       "      <td>0.000000</td>\n",
       "      <td>2.000000</td>\n",
       "      <td>20.125000</td>\n",
       "      <td>0.000000</td>\n",
       "      <td>0.000000</td>\n",
       "      <td>7.910400</td>\n",
       "    </tr>\n",
       "    <tr>\n",
       "      <td>50%</td>\n",
       "      <td>446.000000</td>\n",
       "      <td>0.000000</td>\n",
       "      <td>3.000000</td>\n",
       "      <td>28.000000</td>\n",
       "      <td>0.000000</td>\n",
       "      <td>0.000000</td>\n",
       "      <td>14.454200</td>\n",
       "    </tr>\n",
       "    <tr>\n",
       "      <td>75%</td>\n",
       "      <td>668.500000</td>\n",
       "      <td>1.000000</td>\n",
       "      <td>3.000000</td>\n",
       "      <td>38.000000</td>\n",
       "      <td>1.000000</td>\n",
       "      <td>0.000000</td>\n",
       "      <td>31.000000</td>\n",
       "    </tr>\n",
       "    <tr>\n",
       "      <td>max</td>\n",
       "      <td>891.000000</td>\n",
       "      <td>1.000000</td>\n",
       "      <td>3.000000</td>\n",
       "      <td>80.000000</td>\n",
       "      <td>8.000000</td>\n",
       "      <td>6.000000</td>\n",
       "      <td>512.329200</td>\n",
       "    </tr>\n",
       "  </tbody>\n",
       "</table>\n",
       "</div>"
      ],
      "text/plain": [
       "       PassengerId    Survived      Pclass         Age       SibSp  \\\n",
       "count   891.000000  891.000000  891.000000  714.000000  891.000000   \n",
       "mean    446.000000    0.383838    2.308642   29.699118    0.523008   \n",
       "std     257.353842    0.486592    0.836071   14.526497    1.102743   \n",
       "min       1.000000    0.000000    1.000000    0.420000    0.000000   \n",
       "25%     223.500000    0.000000    2.000000   20.125000    0.000000   \n",
       "50%     446.000000    0.000000    3.000000   28.000000    0.000000   \n",
       "75%     668.500000    1.000000    3.000000   38.000000    1.000000   \n",
       "max     891.000000    1.000000    3.000000   80.000000    8.000000   \n",
       "\n",
       "            Parch        Fare  \n",
       "count  891.000000  891.000000  \n",
       "mean     0.381594   32.204208  \n",
       "std      0.806057   49.693429  \n",
       "min      0.000000    0.000000  \n",
       "25%      0.000000    7.910400  \n",
       "50%      0.000000   14.454200  \n",
       "75%      0.000000   31.000000  \n",
       "max      6.000000  512.329200  "
      ]
     },
     "execution_count": 18,
     "metadata": {},
     "output_type": "execute_result"
    }
   ],
   "source": [
    "df.describe()"
   ]
  },
  {
   "cell_type": "markdown",
   "metadata": {
    "colab_type": "text",
    "id": "iTPCktTEMkTX"
   },
   "source": [
    "##Доступ к элементам данных"
   ]
  },
  {
   "cell_type": "markdown",
   "metadata": {
    "colab_type": "text",
    "id": "X4cp32dRx1Hz"
   },
   "source": [
    "###Доступ к элементам DataFrame"
   ]
  },
  {
   "cell_type": "markdown",
   "metadata": {
    "colab_type": "text",
    "id": "b8gbfFvZ4bgu"
   },
   "source": [
    "Разберемся как посмотреть какие-то конкретные значения в датафрейме. Наш датафрейм представляет собой таблицу, состоящую из строк и столбцов. Обратиться к конкретному столбцу можно используя его имя. Например, выведем первые 10 строк из столбца с возрастом пассажиров"
   ]
  },
  {
   "cell_type": "code",
   "execution_count": 19,
   "metadata": {
    "colab": {
     "base_uri": "https://localhost:8080/",
     "height": 204
    },
    "colab_type": "code",
    "executionInfo": {
     "elapsed": 434,
     "status": "ok",
     "timestamp": 1567678445484,
     "user": {
      "displayName": "Наталья Добренко",
      "photoUrl": "",
      "userId": "17998022496307458770"
     },
     "user_tz": -180
    },
    "id": "e7sx4pwMJtit",
    "outputId": "218adcc7-614e-4023-b40d-88a22911cb0b"
   },
   "outputs": [
    {
     "data": {
      "text/plain": [
       "0    22.0\n",
       "1    38.0\n",
       "2    26.0\n",
       "3    35.0\n",
       "4    35.0\n",
       "5     NaN\n",
       "6    54.0\n",
       "7     2.0\n",
       "8    27.0\n",
       "9    14.0\n",
       "Name: Age, dtype: float64"
      ]
     },
     "execution_count": 19,
     "metadata": {},
     "output_type": "execute_result"
    }
   ],
   "source": [
    "df['Age'].head(10)"
   ]
  },
  {
   "cell_type": "markdown",
   "metadata": {
    "colab_type": "text",
    "id": "U2RLfi_1ewLN"
   },
   "source": [
    "Второй способ обращения - через \".\""
   ]
  },
  {
   "cell_type": "code",
   "execution_count": 20,
   "metadata": {
    "colab": {
     "base_uri": "https://localhost:8080/",
     "height": 204
    },
    "colab_type": "code",
    "executionInfo": {
     "elapsed": 638,
     "status": "ok",
     "timestamp": 1567678462148,
     "user": {
      "displayName": "Наталья Добренко",
      "photoUrl": "",
      "userId": "17998022496307458770"
     },
     "user_tz": -180
    },
    "id": "Jrd-z4lxevXA",
    "outputId": "a12407ab-8fe5-4955-92a9-b806dbd9802d"
   },
   "outputs": [
    {
     "data": {
      "text/plain": [
       "0    22.0\n",
       "1    38.0\n",
       "2    26.0\n",
       "3    35.0\n",
       "4    35.0\n",
       "5     NaN\n",
       "6    54.0\n",
       "7     2.0\n",
       "8    27.0\n",
       "9    14.0\n",
       "Name: Age, dtype: float64"
      ]
     },
     "execution_count": 20,
     "metadata": {},
     "output_type": "execute_result"
    }
   ],
   "source": [
    "df.Age.head(10)"
   ]
  },
  {
   "cell_type": "markdown",
   "metadata": {
    "colab_type": "text",
    "id": "SXpeD9dsJ2w6"
   },
   "source": [
    "Столбец таблицы - это объек Pandas Series, убедимся в этом определив тип полученного объекта. Этот объект проиндексирован (слева печатаются индексы). В нижней строке есть информацию о его имени и типе значений.\n",
    "Кроме того, здесь хорошо видны пропуски (незаполненные значения) в некоторых строках (они обозначены NaN - Not-A-Number)"
   ]
  },
  {
   "cell_type": "code",
   "execution_count": 21,
   "metadata": {
    "colab": {
     "base_uri": "https://localhost:8080/",
     "height": 34
    },
    "colab_type": "code",
    "executionInfo": {
     "elapsed": 1108,
     "status": "ok",
     "timestamp": 1567619955912,
     "user": {
      "displayName": "Лариса Кожекина",
      "photoUrl": "",
      "userId": "00598619623793150933"
     },
     "user_tz": -180
    },
    "id": "IPvr1mjfKnwF",
    "outputId": "e9633404-538d-419c-c5af-edf10fa7453d"
   },
   "outputs": [
    {
     "data": {
      "text/plain": [
       "pandas.core.series.Series"
      ]
     },
     "execution_count": 21,
     "metadata": {},
     "output_type": "execute_result"
    }
   ],
   "source": [
    "type(df['Age'])"
   ]
  },
  {
   "cell_type": "markdown",
   "metadata": {
    "colab_type": "text",
    "id": "ycHZL4wLMNc8"
   },
   "source": [
    "Кроме обращения к столбцу по имени, можно использовать индексацию с помощью методов loc и iloc"
   ]
  },
  {
   "cell_type": "markdown",
   "metadata": {
    "colab_type": "text",
    "id": "Ne8BeNj5M1QQ"
   },
   "source": [
    "Метод loc выдает нам подматрицу, используя индексы строк и столбцов. Первый аргумент отвечает за количество записей (как с начала, так и при желании с любого места), а второй - за отраженные в подматрице признаки.\n"
   ]
  },
  {
   "cell_type": "code",
   "execution_count": 22,
   "metadata": {
    "colab": {
     "base_uri": "https://localhost:8080/",
     "height": 235
    },
    "colab_type": "code",
    "executionInfo": {
     "elapsed": 587,
     "status": "ok",
     "timestamp": 1567621051585,
     "user": {
      "displayName": "Лариса Кожекина",
      "photoUrl": "",
      "userId": "00598619623793150933"
     },
     "user_tz": -180
    },
    "id": "t6_jFUPbfblx",
    "outputId": "4a83adae-e243-40d2-9b12-dbef88573a2d"
   },
   "outputs": [
    {
     "data": {
      "text/html": [
       "<div>\n",
       "<style scoped>\n",
       "    .dataframe tbody tr th:only-of-type {\n",
       "        vertical-align: middle;\n",
       "    }\n",
       "\n",
       "    .dataframe tbody tr th {\n",
       "        vertical-align: top;\n",
       "    }\n",
       "\n",
       "    .dataframe thead th {\n",
       "        text-align: right;\n",
       "    }\n",
       "</style>\n",
       "<table border=\"1\" class=\"dataframe\">\n",
       "  <thead>\n",
       "    <tr style=\"text-align: right;\">\n",
       "      <th></th>\n",
       "      <th>Pclass</th>\n",
       "      <th>Fare</th>\n",
       "    </tr>\n",
       "  </thead>\n",
       "  <tbody>\n",
       "    <tr>\n",
       "      <td>0</td>\n",
       "      <td>3</td>\n",
       "      <td>7.2500</td>\n",
       "    </tr>\n",
       "    <tr>\n",
       "      <td>1</td>\n",
       "      <td>1</td>\n",
       "      <td>71.2833</td>\n",
       "    </tr>\n",
       "    <tr>\n",
       "      <td>2</td>\n",
       "      <td>3</td>\n",
       "      <td>7.9250</td>\n",
       "    </tr>\n",
       "    <tr>\n",
       "      <td>3</td>\n",
       "      <td>1</td>\n",
       "      <td>53.1000</td>\n",
       "    </tr>\n",
       "    <tr>\n",
       "      <td>4</td>\n",
       "      <td>3</td>\n",
       "      <td>8.0500</td>\n",
       "    </tr>\n",
       "    <tr>\n",
       "      <td>5</td>\n",
       "      <td>3</td>\n",
       "      <td>8.4583</td>\n",
       "    </tr>\n",
       "  </tbody>\n",
       "</table>\n",
       "</div>"
      ],
      "text/plain": [
       "   Pclass     Fare\n",
       "0       3   7.2500\n",
       "1       1  71.2833\n",
       "2       3   7.9250\n",
       "3       1  53.1000\n",
       "4       3   8.0500\n",
       "5       3   8.4583"
      ]
     },
     "execution_count": 22,
     "metadata": {},
     "output_type": "execute_result"
    }
   ],
   "source": [
    "df.loc[0:5, ['Pclass', 'Fare']]"
   ]
  },
  {
   "cell_type": "markdown",
   "metadata": {
    "colab_type": "text",
    "id": "abcixFoA4bug"
   },
   "source": [
    "Метод iloc работает схожим образом, за исключением того, что второй аргумент теперь тоже индексы, то есть отражает количество признаков.\n"
   ]
  },
  {
   "cell_type": "code",
   "execution_count": 23,
   "metadata": {
    "colab": {
     "base_uri": "https://localhost:8080/",
     "height": 204
    },
    "colab_type": "code",
    "executionInfo": {
     "elapsed": 521,
     "status": "ok",
     "timestamp": 1567622685083,
     "user": {
      "displayName": "Лариса Кожекина",
      "photoUrl": "",
      "userId": "00598619623793150933"
     },
     "user_tz": -180
    },
    "id": "Zg4NhgBKk0qV",
    "outputId": "6cab0b53-ad22-4f2f-fd9b-2458d80af027"
   },
   "outputs": [
    {
     "data": {
      "text/html": [
       "<div>\n",
       "<style scoped>\n",
       "    .dataframe tbody tr th:only-of-type {\n",
       "        vertical-align: middle;\n",
       "    }\n",
       "\n",
       "    .dataframe tbody tr th {\n",
       "        vertical-align: top;\n",
       "    }\n",
       "\n",
       "    .dataframe thead th {\n",
       "        text-align: right;\n",
       "    }\n",
       "</style>\n",
       "<table border=\"1\" class=\"dataframe\">\n",
       "  <thead>\n",
       "    <tr style=\"text-align: right;\">\n",
       "      <th></th>\n",
       "      <th>Survived</th>\n",
       "      <th>Pclass</th>\n",
       "    </tr>\n",
       "  </thead>\n",
       "  <tbody>\n",
       "    <tr>\n",
       "      <td>0</td>\n",
       "      <td>0</td>\n",
       "      <td>3</td>\n",
       "    </tr>\n",
       "    <tr>\n",
       "      <td>1</td>\n",
       "      <td>1</td>\n",
       "      <td>1</td>\n",
       "    </tr>\n",
       "    <tr>\n",
       "      <td>2</td>\n",
       "      <td>1</td>\n",
       "      <td>3</td>\n",
       "    </tr>\n",
       "    <tr>\n",
       "      <td>3</td>\n",
       "      <td>1</td>\n",
       "      <td>1</td>\n",
       "    </tr>\n",
       "    <tr>\n",
       "      <td>4</td>\n",
       "      <td>0</td>\n",
       "      <td>3</td>\n",
       "    </tr>\n",
       "  </tbody>\n",
       "</table>\n",
       "</div>"
      ],
      "text/plain": [
       "   Survived  Pclass\n",
       "0         0       3\n",
       "1         1       1\n",
       "2         1       3\n",
       "3         1       1\n",
       "4         0       3"
      ]
     },
     "execution_count": 23,
     "metadata": {},
     "output_type": "execute_result"
    }
   ],
   "source": [
    "df.iloc[0:5, 1:3]"
   ]
  },
  {
   "cell_type": "markdown",
   "metadata": {
    "colab_type": "text",
    "id": "2W_MTx-WyK6w"
   },
   "source": [
    "###Доступ к элементам Series"
   ]
  },
  {
   "cell_type": "markdown",
   "metadata": {
    "colab_type": "text",
    "id": "XxsGabTz4b4T"
   },
   "source": [
    "Для примера создадим два объекта Series"
   ]
  },
  {
   "cell_type": "code",
   "execution_count": 24,
   "metadata": {
    "colab": {
     "base_uri": "https://localhost:8080/",
     "height": 119
    },
    "colab_type": "code",
    "executionInfo": {
     "elapsed": 1096,
     "status": "ok",
     "timestamp": 1567619955912,
     "user": {
      "displayName": "Лариса Кожекина",
      "photoUrl": "",
      "userId": "00598619623793150933"
     },
     "user_tz": -180
    },
    "id": "I6n9ftFxzWmI",
    "outputId": "991641c3-0ede-49e2-dcc4-ed6a0851b631"
   },
   "outputs": [
    {
     "name": "stdout",
     "output_type": "stream",
     "text": [
      "0      one\n",
      "1      two\n",
      "2    three\n",
      "3     four\n",
      "4     five\n",
      "dtype: object\n"
     ]
    }
   ],
   "source": [
    "s1 = pd.Series([\"one\", \"two\", \"three\", \"four\", \"five\"]) # передаем список, индексы проставляются автоматически с 0\n",
    "print(s1)"
   ]
  },
  {
   "cell_type": "code",
   "execution_count": 25,
   "metadata": {
    "colab": {
     "base_uri": "https://localhost:8080/",
     "height": 119
    },
    "colab_type": "code",
    "executionInfo": {
     "elapsed": 1089,
     "status": "ok",
     "timestamp": 1567619955913,
     "user": {
      "displayName": "Лариса Кожекина",
      "photoUrl": "",
      "userId": "00598619623793150933"
     },
     "user_tz": -180
    },
    "id": "oN05wJZczWmc",
    "outputId": "7cc473db-c78a-463e-ccba-d24fabcda490"
   },
   "outputs": [
    {
     "name": "stdout",
     "output_type": "stream",
     "text": [
      "a    1\n",
      "b    2\n",
      "c    3\n",
      "d    4\n",
      "e    5\n",
      "dtype: int64\n"
     ]
    }
   ],
   "source": [
    "s2 = pd.Series([1, 2, 3, 4, 5], ['a', 'b', 'c', 'd', 'e'])  # передаем список, индексы заданы символами от 'a' до 'e'\n",
    "print(s2)"
   ]
  },
  {
   "cell_type": "markdown",
   "metadata": {
    "colab_type": "text",
    "id": "fu4bnCJ-zWmh"
   },
   "source": [
    "К элементам Series можно обращаться по численному индексу через \"[ ]\""
   ]
  },
  {
   "cell_type": "code",
   "execution_count": 26,
   "metadata": {
    "colab": {
     "base_uri": "https://localhost:8080/",
     "height": 34
    },
    "colab_type": "code",
    "executionInfo": {
     "elapsed": 1081,
     "status": "ok",
     "timestamp": 1567619955913,
     "user": {
      "displayName": "Лариса Кожекина",
      "photoUrl": "",
      "userId": "00598619623793150933"
     },
     "user_tz": -180
    },
    "id": "JTmUpLwLzWmi",
    "outputId": "89d98f6f-8ac6-4279-e827-4395b17bd503"
   },
   "outputs": [
    {
     "data": {
      "text/plain": [
       "3"
      ]
     },
     "execution_count": 26,
     "metadata": {},
     "output_type": "execute_result"
    }
   ],
   "source": [
    "s2[2] # второй элемент серии s2 (индексация с 0)"
   ]
  },
  {
   "cell_type": "markdown",
   "metadata": {
    "colab_type": "text",
    "id": "IJsaC78YzWmm"
   },
   "source": [
    "К элементам Series можно обращаться по метке:"
   ]
  },
  {
   "cell_type": "code",
   "execution_count": 27,
   "metadata": {
    "colab": {
     "base_uri": "https://localhost:8080/",
     "height": 34
    },
    "colab_type": "code",
    "executionInfo": {
     "elapsed": 1074,
     "status": "ok",
     "timestamp": 1567619955914,
     "user": {
      "displayName": "Лариса Кожекина",
      "photoUrl": "",
      "userId": "00598619623793150933"
     },
     "user_tz": -180
    },
    "id": "ke_GSzJGzWmn",
    "outputId": "d33ee7ac-7dd2-43c0-fb46-7087f6451794"
   },
   "outputs": [
    {
     "data": {
      "text/plain": [
       "3"
      ]
     },
     "execution_count": 27,
     "metadata": {},
     "output_type": "execute_result"
    }
   ],
   "source": [
    "s2['c']"
   ]
  },
  {
   "cell_type": "markdown",
   "metadata": {
    "colab_type": "text",
    "id": "BOFYDD-BzWmr"
   },
   "source": [
    "К элементам Series можно применять так называемые slice (срезы) через ':'.\n",
    "Срезами является часть серии до или после определенного элемента"
   ]
  },
  {
   "cell_type": "code",
   "execution_count": 28,
   "metadata": {
    "colab": {
     "base_uri": "https://localhost:8080/",
     "height": 68
    },
    "colab_type": "code",
    "executionInfo": {
     "elapsed": 1306,
     "status": "ok",
     "timestamp": 1567619956156,
     "user": {
      "displayName": "Лариса Кожекина",
      "photoUrl": "",
      "userId": "00598619623793150933"
     },
     "user_tz": -180
    },
    "id": "_IMv8alczWmr",
    "outputId": "dfbe153a-ce59-47c0-dbce-d3a826cdf3ec"
   },
   "outputs": [
    {
     "data": {
      "text/plain": [
       "a    1\n",
       "b    2\n",
       "dtype: int64"
      ]
     },
     "execution_count": 28,
     "metadata": {},
     "output_type": "execute_result"
    }
   ],
   "source": [
    "s2[:2] # все элементы до второго включительно"
   ]
  },
  {
   "cell_type": "code",
   "execution_count": 29,
   "metadata": {
    "colab": {
     "base_uri": "https://localhost:8080/",
     "height": 85
    },
    "colab_type": "code",
    "executionInfo": {
     "elapsed": 1299,
     "status": "ok",
     "timestamp": 1567619956157,
     "user": {
      "displayName": "Лариса Кожекина",
      "photoUrl": "",
      "userId": "00598619623793150933"
     },
     "user_tz": -180
    },
    "id": "4zE4QBF5zWmt",
    "outputId": "21ee5842-b0ba-4805-e54c-bc4088d11c58"
   },
   "outputs": [
    {
     "data": {
      "text/plain": [
       "c    3\n",
       "d    4\n",
       "e    5\n",
       "dtype: int64"
      ]
     },
     "execution_count": 29,
     "metadata": {},
     "output_type": "execute_result"
    }
   ],
   "source": [
    "s2[2:] # второй и все элементы после второго до конца"
   ]
  },
  {
   "cell_type": "code",
   "execution_count": 30,
   "metadata": {
    "colab": {
     "base_uri": "https://localhost:8080/",
     "height": 68
    },
    "colab_type": "code",
    "executionInfo": {
     "elapsed": 1292,
     "status": "ok",
     "timestamp": 1567619956158,
     "user": {
      "displayName": "Лариса Кожекина",
      "photoUrl": "",
      "userId": "00598619623793150933"
     },
     "user_tz": -180
    },
    "id": "znQ0ekeTzWmw",
    "outputId": "32a1c2bf-4bb1-4458-e41a-9d46112c98aa"
   },
   "outputs": [
    {
     "data": {
      "text/plain": [
       "c    3\n",
       "d    4\n",
       "dtype: int64"
      ]
     },
     "execution_count": 30,
     "metadata": {},
     "output_type": "execute_result"
    }
   ],
   "source": [
    "s2[2:4] # все элементы со второго по четвертый не включительно. Последний никогда не включается."
   ]
  },
  {
   "cell_type": "code",
   "execution_count": 31,
   "metadata": {
    "colab": {
     "base_uri": "https://localhost:8080/",
     "height": 119
    },
    "colab_type": "code",
    "executionInfo": {
     "elapsed": 1213,
     "status": "ok",
     "timestamp": 1567622847197,
     "user": {
      "displayName": "Лариса Кожекина",
      "photoUrl": "",
      "userId": "00598619623793150933"
     },
     "user_tz": -180
    },
    "id": "6QZ12o-Hmjnr",
    "outputId": "ff9a8b73-d41f-4a5f-d1ce-e6665d929930"
   },
   "outputs": [
    {
     "data": {
      "text/plain": [
       "a    1\n",
       "b    2\n",
       "c    3\n",
       "d    4\n",
       "e    5\n",
       "dtype: int64"
      ]
     },
     "execution_count": 31,
     "metadata": {},
     "output_type": "execute_result"
    }
   ],
   "source": [
    "s2[:] # все элементы"
   ]
  },
  {
   "cell_type": "markdown",
   "metadata": {
    "colab_type": "text",
    "id": "nYQFy1gyzWmy"
   },
   "source": [
    "В поле для индекса можно поместить условное выражение.\n",
    "Данное выражение можно перевести как вопрос, является ли значение элемента (признака) меньшим или равным двум."
   ]
  },
  {
   "cell_type": "code",
   "execution_count": 32,
   "metadata": {
    "colab": {
     "base_uri": "https://localhost:8080/",
     "height": 68
    },
    "colab_type": "code",
    "executionInfo": {
     "elapsed": 1284,
     "status": "ok",
     "timestamp": 1567619956158,
     "user": {
      "displayName": "Лариса Кожекина",
      "photoUrl": "",
      "userId": "00598619623793150933"
     },
     "user_tz": -180
    },
    "id": "j_MWQDjnzWmy",
    "outputId": "529dbad5-8cf5-4251-9498-066a5c16a663"
   },
   "outputs": [
    {
     "data": {
      "text/plain": [
       "a    1\n",
       "b    2\n",
       "dtype: int64"
      ]
     },
     "execution_count": 32,
     "metadata": {},
     "output_type": "execute_result"
    }
   ],
   "source": [
    "s2[s2 <= 2]"
   ]
  },
  {
   "cell_type": "markdown",
   "metadata": {
    "colab_type": "text",
    "id": "ckQnNZAjn4mL"
   },
   "source": [
    "Или даже несколько условных выражений, отделенных \"( )\". \n",
    "\n",
    "Если соединить два условия знаком \"&\", то результат будет удовлетворять двум условиям, а если знаком \"|\", то хотя бы одному из них."
   ]
  },
  {
   "cell_type": "code",
   "execution_count": 33,
   "metadata": {
    "colab": {
     "base_uri": "https://localhost:8080/",
     "height": 85
    },
    "colab_type": "code",
    "executionInfo": {
     "elapsed": 542,
     "status": "ok",
     "timestamp": 1567623341021,
     "user": {
      "displayName": "Лариса Кожекина",
      "photoUrl": "",
      "userId": "00598619623793150933"
     },
     "user_tz": -180
    },
    "id": "tFa7rL-mn45B",
    "outputId": "d8c7541f-8ce6-426e-e16c-33b8d41752a1"
   },
   "outputs": [
    {
     "data": {
      "text/plain": [
       "b    2\n",
       "c    3\n",
       "d    4\n",
       "dtype: int64"
      ]
     },
     "execution_count": 33,
     "metadata": {},
     "output_type": "execute_result"
    }
   ],
   "source": [
    "s2[(s2 >= 2) & (s2 <=4)]"
   ]
  },
  {
   "cell_type": "code",
   "execution_count": 34,
   "metadata": {
    "colab": {
     "base_uri": "https://localhost:8080/",
     "height": 85
    },
    "colab_type": "code",
    "executionInfo": {
     "elapsed": 505,
     "status": "ok",
     "timestamp": 1567623405612,
     "user": {
      "displayName": "Лариса Кожекина",
      "photoUrl": "",
      "userId": "00598619623793150933"
     },
     "user_tz": -180
    },
    "id": "8Kwvc9xSomoo",
    "outputId": "770e9d77-d492-4ee8-a429-d0e6ffe87522"
   },
   "outputs": [
    {
     "data": {
      "text/plain": [
       "a    1\n",
       "b    2\n",
       "e    5\n",
       "dtype: int64"
      ]
     },
     "execution_count": 34,
     "metadata": {},
     "output_type": "execute_result"
    }
   ],
   "source": [
    "s2[(s2 <= 2) | (s2 == 5)]"
   ]
  },
  {
   "cell_type": "markdown",
   "metadata": {
    "colab_type": "text",
    "id": "cXVo5eJvo5Hc"
   },
   "source": [
    "Важно, что в условных выражениях равенство пишется как \"==\" (два знака \"равно\")."
   ]
  },
  {
   "cell_type": "markdown",
   "metadata": {
    "colab_type": "text",
    "id": "kagxI_NfzWm1"
   },
   "source": [
    "Со структурами Series можно работать как с векторами: складывать, умножать вектор на число и т.п."
   ]
  },
  {
   "cell_type": "code",
   "execution_count": 35,
   "metadata": {
    "colab": {},
    "colab_type": "code",
    "id": "2mAOcSTgzWm2"
   },
   "outputs": [],
   "source": [
    "s3 = s2 + 10"
   ]
  },
  {
   "cell_type": "code",
   "execution_count": 36,
   "metadata": {
    "colab": {
     "base_uri": "https://localhost:8080/",
     "height": 119
    },
    "colab_type": "code",
    "executionInfo": {
     "elapsed": 1274,
     "status": "ok",
     "timestamp": 1567619956159,
     "user": {
      "displayName": "Лариса Кожекина",
      "photoUrl": "",
      "userId": "00598619623793150933"
     },
     "user_tz": -180
    },
    "id": "dMhJC4XjzWm4",
    "outputId": "9ad6a176-a4d4-40b8-f538-6ac29c8370eb"
   },
   "outputs": [
    {
     "name": "stdout",
     "output_type": "stream",
     "text": [
      "a    11\n",
      "b    12\n",
      "c    13\n",
      "d    14\n",
      "e    15\n",
      "dtype: int64\n"
     ]
    }
   ],
   "source": [
    "print(s3)"
   ]
  },
  {
   "cell_type": "markdown",
   "metadata": {
    "colab_type": "text",
    "id": "gnyZuP3taQhB"
   },
   "source": [
    "## Примеры анализа информации"
   ]
  },
  {
   "cell_type": "markdown",
   "metadata": {
    "colab_type": "text",
    "id": "o76V1-_t09-T"
   },
   "source": [
    "Для примера отберем пассажиров мужского пола, возраст которых меньше сорока лет."
   ]
  },
  {
   "cell_type": "code",
   "execution_count": 37,
   "metadata": {
    "colab": {
     "base_uri": "https://localhost:8080/",
     "height": 340
    },
    "colab_type": "code",
    "executionInfo": {
     "elapsed": 1249,
     "status": "ok",
     "timestamp": 1567619956160,
     "user": {
      "displayName": "Лариса Кожекина",
      "photoUrl": "",
      "userId": "00598619623793150933"
     },
     "user_tz": -180
    },
    "id": "bQ0Q-A1SxTXJ",
    "outputId": "7ba91080-e086-41c0-88b7-3ffd18ff2719"
   },
   "outputs": [
    {
     "data": {
      "text/html": [
       "<div>\n",
       "<style scoped>\n",
       "    .dataframe tbody tr th:only-of-type {\n",
       "        vertical-align: middle;\n",
       "    }\n",
       "\n",
       "    .dataframe tbody tr th {\n",
       "        vertical-align: top;\n",
       "    }\n",
       "\n",
       "    .dataframe thead th {\n",
       "        text-align: right;\n",
       "    }\n",
       "</style>\n",
       "<table border=\"1\" class=\"dataframe\">\n",
       "  <thead>\n",
       "    <tr style=\"text-align: right;\">\n",
       "      <th></th>\n",
       "      <th>PassengerId</th>\n",
       "      <th>Survived</th>\n",
       "      <th>Pclass</th>\n",
       "      <th>Name</th>\n",
       "      <th>Sex</th>\n",
       "      <th>Age</th>\n",
       "      <th>SibSp</th>\n",
       "      <th>Parch</th>\n",
       "      <th>Ticket</th>\n",
       "      <th>Fare</th>\n",
       "      <th>Cabin</th>\n",
       "      <th>Embarked</th>\n",
       "    </tr>\n",
       "  </thead>\n",
       "  <tbody>\n",
       "    <tr>\n",
       "      <td>0</td>\n",
       "      <td>1</td>\n",
       "      <td>0</td>\n",
       "      <td>3</td>\n",
       "      <td>Braund, Mr. Owen Harris</td>\n",
       "      <td>male</td>\n",
       "      <td>22.0</td>\n",
       "      <td>1</td>\n",
       "      <td>0</td>\n",
       "      <td>A/5 21171</td>\n",
       "      <td>7.250</td>\n",
       "      <td>NaN</td>\n",
       "      <td>S</td>\n",
       "    </tr>\n",
       "    <tr>\n",
       "      <td>4</td>\n",
       "      <td>5</td>\n",
       "      <td>0</td>\n",
       "      <td>3</td>\n",
       "      <td>Allen, Mr. William Henry</td>\n",
       "      <td>male</td>\n",
       "      <td>35.0</td>\n",
       "      <td>0</td>\n",
       "      <td>0</td>\n",
       "      <td>373450</td>\n",
       "      <td>8.050</td>\n",
       "      <td>NaN</td>\n",
       "      <td>S</td>\n",
       "    </tr>\n",
       "    <tr>\n",
       "      <td>7</td>\n",
       "      <td>8</td>\n",
       "      <td>0</td>\n",
       "      <td>3</td>\n",
       "      <td>Palsson, Master. Gosta Leonard</td>\n",
       "      <td>male</td>\n",
       "      <td>2.0</td>\n",
       "      <td>3</td>\n",
       "      <td>1</td>\n",
       "      <td>349909</td>\n",
       "      <td>21.075</td>\n",
       "      <td>NaN</td>\n",
       "      <td>S</td>\n",
       "    </tr>\n",
       "    <tr>\n",
       "      <td>12</td>\n",
       "      <td>13</td>\n",
       "      <td>0</td>\n",
       "      <td>3</td>\n",
       "      <td>Saundercock, Mr. William Henry</td>\n",
       "      <td>male</td>\n",
       "      <td>20.0</td>\n",
       "      <td>0</td>\n",
       "      <td>0</td>\n",
       "      <td>A/5. 2151</td>\n",
       "      <td>8.050</td>\n",
       "      <td>NaN</td>\n",
       "      <td>S</td>\n",
       "    </tr>\n",
       "    <tr>\n",
       "      <td>13</td>\n",
       "      <td>14</td>\n",
       "      <td>0</td>\n",
       "      <td>3</td>\n",
       "      <td>Andersson, Mr. Anders Johan</td>\n",
       "      <td>male</td>\n",
       "      <td>39.0</td>\n",
       "      <td>1</td>\n",
       "      <td>5</td>\n",
       "      <td>347082</td>\n",
       "      <td>31.275</td>\n",
       "      <td>NaN</td>\n",
       "      <td>S</td>\n",
       "    </tr>\n",
       "  </tbody>\n",
       "</table>\n",
       "</div>"
      ],
      "text/plain": [
       "    PassengerId  Survived  Pclass                            Name   Sex   Age  \\\n",
       "0             1         0       3         Braund, Mr. Owen Harris  male  22.0   \n",
       "4             5         0       3        Allen, Mr. William Henry  male  35.0   \n",
       "7             8         0       3  Palsson, Master. Gosta Leonard  male   2.0   \n",
       "12           13         0       3  Saundercock, Mr. William Henry  male  20.0   \n",
       "13           14         0       3     Andersson, Mr. Anders Johan  male  39.0   \n",
       "\n",
       "    SibSp  Parch     Ticket    Fare Cabin Embarked  \n",
       "0       1      0  A/5 21171   7.250   NaN        S  \n",
       "4       0      0     373450   8.050   NaN        S  \n",
       "7       3      1     349909  21.075   NaN        S  \n",
       "12      0      0  A/5. 2151   8.050   NaN        S  \n",
       "13      1      5     347082  31.275   NaN        S  "
      ]
     },
     "execution_count": 37,
     "metadata": {},
     "output_type": "execute_result"
    }
   ],
   "source": [
    "df[(df['Sex'] == 'male') & (df.Age < 40)].head(5)"
   ]
  },
  {
   "cell_type": "markdown",
   "metadata": {
    "colab_type": "text",
    "id": "gNrAR3R41PDO"
   },
   "source": [
    "Можно отсортировать этих людей по возрастанию платы за билет. Ascending в данной функции отвечает за сортировку по убыванию (False) или по возрастанию (True)."
   ]
  },
  {
   "cell_type": "code",
   "execution_count": 38,
   "metadata": {
    "colab": {
     "base_uri": "https://localhost:8080/",
     "height": 600
    },
    "colab_type": "code",
    "executionInfo": {
     "elapsed": 525,
     "status": "ok",
     "timestamp": 1567624408610,
     "user": {
      "displayName": "Лариса Кожекина",
      "photoUrl": "",
      "userId": "00598619623793150933"
     },
     "user_tz": -180
    },
    "id": "xBnWGrQfxdCT",
    "outputId": "d8dbd03e-0a40-4b06-b4fc-47498b607410"
   },
   "outputs": [
    {
     "data": {
      "text/html": [
       "<div>\n",
       "<style scoped>\n",
       "    .dataframe tbody tr th:only-of-type {\n",
       "        vertical-align: middle;\n",
       "    }\n",
       "\n",
       "    .dataframe tbody tr th {\n",
       "        vertical-align: top;\n",
       "    }\n",
       "\n",
       "    .dataframe thead th {\n",
       "        text-align: right;\n",
       "    }\n",
       "</style>\n",
       "<table border=\"1\" class=\"dataframe\">\n",
       "  <thead>\n",
       "    <tr style=\"text-align: right;\">\n",
       "      <th></th>\n",
       "      <th>PassengerId</th>\n",
       "      <th>Survived</th>\n",
       "      <th>Pclass</th>\n",
       "      <th>Name</th>\n",
       "      <th>Sex</th>\n",
       "      <th>Age</th>\n",
       "      <th>SibSp</th>\n",
       "      <th>Parch</th>\n",
       "      <th>Ticket</th>\n",
       "      <th>Fare</th>\n",
       "      <th>Cabin</th>\n",
       "      <th>Embarked</th>\n",
       "    </tr>\n",
       "  </thead>\n",
       "  <tbody>\n",
       "    <tr>\n",
       "      <td>271</td>\n",
       "      <td>272</td>\n",
       "      <td>1</td>\n",
       "      <td>3</td>\n",
       "      <td>Tornquist, Mr. William Henry</td>\n",
       "      <td>male</td>\n",
       "      <td>25.0</td>\n",
       "      <td>0</td>\n",
       "      <td>0</td>\n",
       "      <td>LINE</td>\n",
       "      <td>0.0000</td>\n",
       "      <td>NaN</td>\n",
       "      <td>S</td>\n",
       "    </tr>\n",
       "    <tr>\n",
       "      <td>822</td>\n",
       "      <td>823</td>\n",
       "      <td>0</td>\n",
       "      <td>1</td>\n",
       "      <td>Reuchlin, Jonkheer. John George</td>\n",
       "      <td>male</td>\n",
       "      <td>38.0</td>\n",
       "      <td>0</td>\n",
       "      <td>0</td>\n",
       "      <td>19972</td>\n",
       "      <td>0.0000</td>\n",
       "      <td>NaN</td>\n",
       "      <td>S</td>\n",
       "    </tr>\n",
       "    <tr>\n",
       "      <td>806</td>\n",
       "      <td>807</td>\n",
       "      <td>0</td>\n",
       "      <td>1</td>\n",
       "      <td>Andrews, Mr. Thomas Jr</td>\n",
       "      <td>male</td>\n",
       "      <td>39.0</td>\n",
       "      <td>0</td>\n",
       "      <td>0</td>\n",
       "      <td>112050</td>\n",
       "      <td>0.0000</td>\n",
       "      <td>A36</td>\n",
       "      <td>S</td>\n",
       "    </tr>\n",
       "    <tr>\n",
       "      <td>179</td>\n",
       "      <td>180</td>\n",
       "      <td>0</td>\n",
       "      <td>3</td>\n",
       "      <td>Leonard, Mr. Lionel</td>\n",
       "      <td>male</td>\n",
       "      <td>36.0</td>\n",
       "      <td>0</td>\n",
       "      <td>0</td>\n",
       "      <td>LINE</td>\n",
       "      <td>0.0000</td>\n",
       "      <td>NaN</td>\n",
       "      <td>S</td>\n",
       "    </tr>\n",
       "    <tr>\n",
       "      <td>302</td>\n",
       "      <td>303</td>\n",
       "      <td>0</td>\n",
       "      <td>3</td>\n",
       "      <td>Johnson, Mr. William Cahoone Jr</td>\n",
       "      <td>male</td>\n",
       "      <td>19.0</td>\n",
       "      <td>0</td>\n",
       "      <td>0</td>\n",
       "      <td>LINE</td>\n",
       "      <td>0.0000</td>\n",
       "      <td>NaN</td>\n",
       "      <td>S</td>\n",
       "    </tr>\n",
       "    <tr>\n",
       "      <td>378</td>\n",
       "      <td>379</td>\n",
       "      <td>0</td>\n",
       "      <td>3</td>\n",
       "      <td>Betros, Mr. Tannous</td>\n",
       "      <td>male</td>\n",
       "      <td>20.0</td>\n",
       "      <td>0</td>\n",
       "      <td>0</td>\n",
       "      <td>2648</td>\n",
       "      <td>4.0125</td>\n",
       "      <td>NaN</td>\n",
       "      <td>C</td>\n",
       "    </tr>\n",
       "    <tr>\n",
       "      <td>872</td>\n",
       "      <td>873</td>\n",
       "      <td>0</td>\n",
       "      <td>1</td>\n",
       "      <td>Carlsson, Mr. Frans Olof</td>\n",
       "      <td>male</td>\n",
       "      <td>33.0</td>\n",
       "      <td>0</td>\n",
       "      <td>0</td>\n",
       "      <td>695</td>\n",
       "      <td>5.0000</td>\n",
       "      <td>B51 B53 B55</td>\n",
       "      <td>S</td>\n",
       "    </tr>\n",
       "    <tr>\n",
       "      <td>843</td>\n",
       "      <td>844</td>\n",
       "      <td>0</td>\n",
       "      <td>3</td>\n",
       "      <td>Lemberopolous, Mr. Peter L</td>\n",
       "      <td>male</td>\n",
       "      <td>34.5</td>\n",
       "      <td>0</td>\n",
       "      <td>0</td>\n",
       "      <td>2683</td>\n",
       "      <td>6.4375</td>\n",
       "      <td>NaN</td>\n",
       "      <td>C</td>\n",
       "    </tr>\n",
       "    <tr>\n",
       "      <td>371</td>\n",
       "      <td>372</td>\n",
       "      <td>0</td>\n",
       "      <td>3</td>\n",
       "      <td>Wiklund, Mr. Jakob Alfred</td>\n",
       "      <td>male</td>\n",
       "      <td>18.0</td>\n",
       "      <td>1</td>\n",
       "      <td>0</td>\n",
       "      <td>3101267</td>\n",
       "      <td>6.4958</td>\n",
       "      <td>NaN</td>\n",
       "      <td>S</td>\n",
       "    </tr>\n",
       "    <tr>\n",
       "      <td>202</td>\n",
       "      <td>203</td>\n",
       "      <td>0</td>\n",
       "      <td>3</td>\n",
       "      <td>Johanson, Mr. Jakob Alfred</td>\n",
       "      <td>male</td>\n",
       "      <td>34.0</td>\n",
       "      <td>0</td>\n",
       "      <td>0</td>\n",
       "      <td>3101264</td>\n",
       "      <td>6.4958</td>\n",
       "      <td>NaN</td>\n",
       "      <td>S</td>\n",
       "    </tr>\n",
       "  </tbody>\n",
       "</table>\n",
       "</div>"
      ],
      "text/plain": [
       "     PassengerId  Survived  Pclass                             Name   Sex  \\\n",
       "271          272         1       3     Tornquist, Mr. William Henry  male   \n",
       "822          823         0       1  Reuchlin, Jonkheer. John George  male   \n",
       "806          807         0       1           Andrews, Mr. Thomas Jr  male   \n",
       "179          180         0       3              Leonard, Mr. Lionel  male   \n",
       "302          303         0       3  Johnson, Mr. William Cahoone Jr  male   \n",
       "378          379         0       3              Betros, Mr. Tannous  male   \n",
       "872          873         0       1         Carlsson, Mr. Frans Olof  male   \n",
       "843          844         0       3       Lemberopolous, Mr. Peter L  male   \n",
       "371          372         0       3        Wiklund, Mr. Jakob Alfred  male   \n",
       "202          203         0       3       Johanson, Mr. Jakob Alfred  male   \n",
       "\n",
       "      Age  SibSp  Parch   Ticket    Fare        Cabin Embarked  \n",
       "271  25.0      0      0     LINE  0.0000          NaN        S  \n",
       "822  38.0      0      0    19972  0.0000          NaN        S  \n",
       "806  39.0      0      0   112050  0.0000          A36        S  \n",
       "179  36.0      0      0     LINE  0.0000          NaN        S  \n",
       "302  19.0      0      0     LINE  0.0000          NaN        S  \n",
       "378  20.0      0      0     2648  4.0125          NaN        C  \n",
       "872  33.0      0      0      695  5.0000  B51 B53 B55        S  \n",
       "843  34.5      0      0     2683  6.4375          NaN        C  \n",
       "371  18.0      1      0  3101267  6.4958          NaN        S  \n",
       "202  34.0      0      0  3101264  6.4958          NaN        S  "
      ]
     },
     "execution_count": 38,
     "metadata": {},
     "output_type": "execute_result"
    }
   ],
   "source": [
    "df[(df['Sex'] == 'male') & (df.Age < 40)].sort_values(by='Fare',ascending=True).head(10)"
   ]
  },
  {
   "cell_type": "markdown",
   "metadata": {
    "colab_type": "text",
    "id": "oBO-Nhzh2cvL"
   },
   "source": [
    "Можно подсчитать количество пассажиров (а точнее их уникальных номеров) с помощью функции count()"
   ]
  },
  {
   "cell_type": "code",
   "execution_count": 39,
   "metadata": {
    "colab": {
     "base_uri": "https://localhost:8080/",
     "height": 34
    },
    "colab_type": "code",
    "executionInfo": {
     "elapsed": 1232,
     "status": "ok",
     "timestamp": 1567619956161,
     "user": {
      "displayName": "Лариса Кожекина",
      "photoUrl": "",
      "userId": "00598619623793150933"
     },
     "user_tz": -180
    },
    "id": "A0qPNXHs12m6",
    "outputId": "b484d530-986c-4794-8ecc-79b8e4b0c679"
   },
   "outputs": [
    {
     "data": {
      "text/plain": [
       "344"
      ]
     },
     "execution_count": 39,
     "metadata": {},
     "output_type": "execute_result"
    }
   ],
   "source": [
    "df[(df['Sex'] == 'male') & (df.Age < 40)].sort_values(by='Fare',ascending=True).PassengerId.count()"
   ]
  },
  {
   "cell_type": "markdown",
   "metadata": {
    "colab_type": "text",
    "id": "nIYN5Eob3yJz"
   },
   "source": [
    "Также можно быстро вывести распределение переменной Sex с помощью функции value_count()"
   ]
  },
  {
   "cell_type": "code",
   "execution_count": 40,
   "metadata": {
    "colab": {
     "base_uri": "https://localhost:8080/",
     "height": 68
    },
    "colab_type": "code",
    "executionInfo": {
     "elapsed": 1491,
     "status": "ok",
     "timestamp": 1567619956428,
     "user": {
      "displayName": "Лариса Кожекина",
      "photoUrl": "",
      "userId": "00598619623793150933"
     },
     "user_tz": -180
    },
    "id": "ryeKmgpO3hSx",
    "outputId": "2ebd1f3b-5265-4e2f-963d-8ca46b4f404e"
   },
   "outputs": [
    {
     "data": {
      "text/plain": [
       "male      577\n",
       "female    314\n",
       "Name: Sex, dtype: int64"
      ]
     },
     "execution_count": 40,
     "metadata": {},
     "output_type": "execute_result"
    }
   ],
   "source": [
    "df.Sex.value_counts()"
   ]
  },
  {
   "cell_type": "markdown",
   "metadata": {
    "colab_type": "text",
    "id": "ACGDsuGOagZt"
   },
   "source": [
    "## Задания"
   ]
  },
  {
   "cell_type": "markdown",
   "metadata": {
    "colab_type": "text",
    "id": "6juXJzCA1qFR"
   },
   "source": [
    "Задание 1.\n",
    "Сколько человек спаслись и сколько погибли?"
   ]
  },
  {
   "cell_type": "code",
   "execution_count": 41,
   "metadata": {
    "colab": {
     "base_uri": "https://localhost:8080/",
     "height": 34
    },
    "colab_type": "code",
    "executionInfo": {
     "elapsed": 1483,
     "status": "ok",
     "timestamp": 1567619956429,
     "user": {
      "displayName": "Лариса Кожекина",
      "photoUrl": "",
      "userId": "00598619623793150933"
     },
     "user_tz": -180
    },
    "id": "dttDT4Yu1YZL",
    "outputId": "62d82cf6-b333-4d94-8f45-5b97312830cb"
   },
   "outputs": [
    {
     "data": {
      "text/plain": [
       "342"
      ]
     },
     "execution_count": 41,
     "metadata": {},
     "output_type": "execute_result"
    }
   ],
   "source": [
    "df[(df.Survived == 1)].PassengerId.count()"
   ]
  },
  {
   "cell_type": "code",
   "execution_count": 42,
   "metadata": {
    "colab": {
     "base_uri": "https://localhost:8080/",
     "height": 34
    },
    "colab_type": "code",
    "executionInfo": {
     "elapsed": 1475,
     "status": "ok",
     "timestamp": 1567619956430,
     "user": {
      "displayName": "Лариса Кожекина",
      "photoUrl": "",
      "userId": "00598619623793150933"
     },
     "user_tz": -180
    },
    "id": "dQf9bPUL2F84",
    "outputId": "212759ab-82bf-46e2-d7a1-32efc3f74c71"
   },
   "outputs": [
    {
     "data": {
      "text/plain": [
       "549"
      ]
     },
     "execution_count": 42,
     "metadata": {},
     "output_type": "execute_result"
    }
   ],
   "source": [
    "df[(df.Survived == 0)].PassengerId.count()"
   ]
  },
  {
   "cell_type": "markdown",
   "metadata": {
    "colab_type": "text",
    "id": "ROJJ8MSE2xdh"
   },
   "source": [
    "Задание 2. Выведите распределение переменной Survived отдельно для мужчин и отдельно для женщин\n"
   ]
  },
  {
   "cell_type": "code",
   "execution_count": 43,
   "metadata": {
    "colab": {
     "base_uri": "https://localhost:8080/",
     "height": 68
    },
    "colab_type": "code",
    "executionInfo": {
     "elapsed": 1467,
     "status": "ok",
     "timestamp": 1567619956431,
     "user": {
      "displayName": "Лариса Кожекина",
      "photoUrl": "",
      "userId": "00598619623793150933"
     },
     "user_tz": -180
    },
    "id": "hwSzx_d-2oiE",
    "outputId": "3c587627-2ecb-4c66-a0cb-324a870bd26e"
   },
   "outputs": [
    {
     "data": {
      "text/plain": [
       "0    468\n",
       "1    109\n",
       "Name: Survived, dtype: int64"
      ]
     },
     "execution_count": 43,
     "metadata": {},
     "output_type": "execute_result"
    }
   ],
   "source": [
    "df[(df['Sex'] == 'male')].Survived.value_counts()"
   ]
  },
  {
   "cell_type": "code",
   "execution_count": 44,
   "metadata": {
    "colab": {
     "base_uri": "https://localhost:8080/",
     "height": 68
    },
    "colab_type": "code",
    "executionInfo": {
     "elapsed": 1460,
     "status": "ok",
     "timestamp": 1567619956432,
     "user": {
      "displayName": "Лариса Кожекина",
      "photoUrl": "",
      "userId": "00598619623793150933"
     },
     "user_tz": -180
    },
    "id": "GNTW3sVq2sP3",
    "outputId": "4006ec94-f778-47ae-df73-3e83fdeef76d"
   },
   "outputs": [
    {
     "data": {
      "text/plain": [
       "1    233\n",
       "0     81\n",
       "Name: Survived, dtype: int64"
      ]
     },
     "execution_count": 44,
     "metadata": {},
     "output_type": "execute_result"
    }
   ],
   "source": [
    "df[(df['Sex'] == 'female')].Survived.value_counts()"
   ]
  },
  {
   "cell_type": "markdown",
   "metadata": {
    "colab_type": "text",
    "id": "JOxfl_Rc5SPG"
   },
   "source": [
    "Задание 3. Каковы медиана и стандартное отклонение цен за билет?"
   ]
  },
  {
   "cell_type": "code",
   "execution_count": 45,
   "metadata": {
    "colab": {
     "base_uri": "https://localhost:8080/",
     "height": 34
    },
    "colab_type": "code",
    "executionInfo": {
     "elapsed": 1451,
     "status": "ok",
     "timestamp": 1567619956432,
     "user": {
      "displayName": "Лариса Кожекина",
      "photoUrl": "",
      "userId": "00598619623793150933"
     },
     "user_tz": -180
    },
    "id": "VLS_yn9f4_eL",
    "outputId": "11a1188c-6046-456e-a6df-28ad7d2ed47a"
   },
   "outputs": [
    {
     "data": {
      "text/plain": [
       "14.4542"
      ]
     },
     "execution_count": 45,
     "metadata": {},
     "output_type": "execute_result"
    }
   ],
   "source": [
    "df.Fare.median()"
   ]
  },
  {
   "cell_type": "code",
   "execution_count": 46,
   "metadata": {
    "colab": {
     "base_uri": "https://localhost:8080/",
     "height": 34
    },
    "colab_type": "code",
    "executionInfo": {
     "elapsed": 1444,
     "status": "ok",
     "timestamp": 1567619956433,
     "user": {
      "displayName": "Лариса Кожекина",
      "photoUrl": "",
      "userId": "00598619623793150933"
     },
     "user_tz": -180
    },
    "id": "FBW4aFc65mWX",
    "outputId": "3da370c7-cca4-4a09-c31f-d6bc907f7aa6"
   },
   "outputs": [
    {
     "data": {
      "text/plain": [
       "49.6934285971809"
      ]
     },
     "execution_count": 46,
     "metadata": {},
     "output_type": "execute_result"
    }
   ],
   "source": [
    "df.Fare.std()"
   ]
  },
  {
   "cell_type": "code",
   "execution_count": 47,
   "metadata": {
    "colab": {
     "base_uri": "https://localhost:8080/",
     "height": 34
    },
    "colab_type": "code",
    "executionInfo": {
     "elapsed": 557,
     "status": "ok",
     "timestamp": 1567619959123,
     "user": {
      "displayName": "Лариса Кожекина",
      "photoUrl": "",
      "userId": "00598619623793150933"
     },
     "user_tz": -180
    },
    "id": "opSW8RD0bWZt",
    "outputId": "9be607e3-f99f-4fc4-c62c-f934dc999d70"
   },
   "outputs": [
    {
     "data": {
      "text/plain": [
       "(14.4542, 49.6934285971809)"
      ]
     },
     "execution_count": 47,
     "metadata": {},
     "output_type": "execute_result"
    }
   ],
   "source": [
    "df.Fare.median(),\\\n",
    "df.Fare.std()"
   ]
  },
  {
   "cell_type": "markdown",
   "metadata": {
    "colab_type": "text",
    "id": "JMpQ54xk51wN"
   },
   "source": [
    "Задание 4. Подсчитайте долю выживших среди людей моложе 25 лет и старше 55."
   ]
  },
  {
   "cell_type": "code",
   "execution_count": 52,
   "metadata": {
    "colab": {
     "base_uri": "https://localhost:8080/",
     "height": 35
    },
    "colab_type": "code",
    "executionInfo": {
     "elapsed": 2057,
     "status": "ok",
     "timestamp": 1567592066594,
     "user": {
      "displayName": "Лариса Кожекина",
      "photoUrl": "",
      "userId": "00598619623793150933"
     },
     "user_tz": -180
    },
    "id": "mzqVFbbE6art",
    "outputId": "2a9606e2-a57a-48e5-be96-7e29a0080723"
   },
   "outputs": [
    {
     "data": {
      "text/plain": [
       "30.0"
      ]
     },
     "execution_count": 52,
     "metadata": {},
     "output_type": "execute_result"
    }
   ],
   "source": [
    "df[(df.Survived == 1) & (df.Age > 55)].PassengerId.count()/df[(df.Age > 55)].PassengerId.count() * 100"
   ]
  },
  {
   "cell_type": "code",
   "execution_count": 53,
   "metadata": {
    "colab": {
     "base_uri": "https://localhost:8080/",
     "height": 35
    },
    "colab_type": "code",
    "executionInfo": {
     "elapsed": 2046,
     "status": "ok",
     "timestamp": 1567592066595,
     "user": {
      "displayName": "Лариса Кожекина",
      "photoUrl": "",
      "userId": "00598619623793150933"
     },
     "user_tz": -180
    },
    "id": "TDGzX7iW5ox9",
    "outputId": "ffdae23f-b6c6-4740-9014-9accdb5eedf8"
   },
   "outputs": [
    {
     "data": {
      "text/plain": [
       "42.44604316546763"
      ]
     },
     "execution_count": 53,
     "metadata": {},
     "output_type": "execute_result"
    }
   ],
   "source": [
    "df[(df.Survived == 1) & (df.Age < 25)].PassengerId.count()/df[(df.Age < 25)].PassengerId.count() * 100"
   ]
  },
  {
   "cell_type": "markdown",
   "metadata": {
    "colab_type": "text",
    "id": "c9dMqjki6tWX"
   },
   "source": [
    "Задание 5. Подсчитайте долю выживших среди мужчин и женщин."
   ]
  },
  {
   "cell_type": "code",
   "execution_count": 54,
   "metadata": {
    "colab": {
     "base_uri": "https://localhost:8080/",
     "height": 35
    },
    "colab_type": "code",
    "executionInfo": {
     "elapsed": 2039,
     "status": "ok",
     "timestamp": 1567592066595,
     "user": {
      "displayName": "Лариса Кожекина",
      "photoUrl": "",
      "userId": "00598619623793150933"
     },
     "user_tz": -180
    },
    "id": "EuQ3k9_56WTD",
    "outputId": "c19873e4-fc05-49e4-99d6-3e3d71a0ea2e"
   },
   "outputs": [
    {
     "data": {
      "text/plain": [
       "18.890814558058924"
      ]
     },
     "execution_count": 54,
     "metadata": {},
     "output_type": "execute_result"
    }
   ],
   "source": [
    "df[(df.Survived == 1) & (df.Sex == 'male')].PassengerId.count()/df[(df.Sex == 'male')].PassengerId.count() * 100"
   ]
  },
  {
   "cell_type": "code",
   "execution_count": 55,
   "metadata": {
    "colab": {
     "base_uri": "https://localhost:8080/",
     "height": 35
    },
    "colab_type": "code",
    "executionInfo": {
     "elapsed": 2031,
     "status": "ok",
     "timestamp": 1567592066596,
     "user": {
      "displayName": "Лариса Кожекина",
      "photoUrl": "",
      "userId": "00598619623793150933"
     },
     "user_tz": -180
    },
    "id": "FR7J_0na66r_",
    "outputId": "184e24a3-06be-4f35-ae07-8ae91db01984"
   },
   "outputs": [
    {
     "data": {
      "text/plain": [
       "74.20382165605095"
      ]
     },
     "execution_count": 55,
     "metadata": {},
     "output_type": "execute_result"
    }
   ],
   "source": [
    "df[(df.Survived == 1) & (df.Sex == 'female')].PassengerId.count()/df[(df.Sex == 'female')].PassengerId.count() * 100"
   ]
  },
  {
   "cell_type": "markdown",
   "metadata": {
    "colab_type": "text",
    "id": "d9HcyxCe8Amb"
   },
   "source": [
    "Задание 6. В каком городе больше всего село пассажиров?"
   ]
  },
  {
   "cell_type": "code",
   "execution_count": 56,
   "metadata": {
    "colab": {
     "base_uri": "https://localhost:8080/",
     "height": 90
    },
    "colab_type": "code",
    "executionInfo": {
     "elapsed": 2025,
     "status": "ok",
     "timestamp": 1567592066596,
     "user": {
      "displayName": "Лариса Кожекина",
      "photoUrl": "",
      "userId": "00598619623793150933"
     },
     "user_tz": -180
    },
    "id": "Z1qimpFF6914",
    "outputId": "eb37bc99-245f-46ad-fb06-da8a17a00f9c"
   },
   "outputs": [
    {
     "data": {
      "text/plain": [
       "S    644\n",
       "C    168\n",
       "Q     77\n",
       "Name: Embarked, dtype: int64"
      ]
     },
     "execution_count": 56,
     "metadata": {},
     "output_type": "execute_result"
    }
   ],
   "source": [
    "df.Embarked.value_counts()"
   ]
  },
  {
   "cell_type": "markdown",
   "metadata": {
    "colab_type": "text",
    "id": "r7Ev8RJWy0la"
   },
   "source": [
    "Задание 7. Подсчитайте средний возраст выживших"
   ]
  },
  {
   "cell_type": "code",
   "execution_count": 57,
   "metadata": {
    "colab": {
     "base_uri": "https://localhost:8080/",
     "height": 35
    },
    "colab_type": "code",
    "executionInfo": {
     "elapsed": 1936,
     "status": "ok",
     "timestamp": 1567592066596,
     "user": {
      "displayName": "Лариса Кожекина",
      "photoUrl": "",
      "userId": "00598619623793150933"
     },
     "user_tz": -180
    },
    "id": "UV2fKrBW8F2W",
    "outputId": "9d238bb3-50be-4c37-900e-31f464c59bc6"
   },
   "outputs": [
    {
     "data": {
      "text/plain": [
       "28.343689655172415"
      ]
     },
     "execution_count": 57,
     "metadata": {},
     "output_type": "execute_result"
    }
   ],
   "source": [
    "df[(df.Survived == 1)].Age.mean()"
   ]
  },
  {
   "cell_type": "markdown",
   "metadata": {
    "colab_type": "text",
    "id": "KA326h6WzEvm"
   },
   "source": [
    "Задание 8. Подсчитайте средний возраст пассажиров каждого из трех классов\n"
   ]
  },
  {
   "cell_type": "code",
   "execution_count": 58,
   "metadata": {
    "colab": {
     "base_uri": "https://localhost:8080/",
     "height": 35
    },
    "colab_type": "code",
    "executionInfo": {
     "elapsed": 1930,
     "status": "ok",
     "timestamp": 1567592066597,
     "user": {
      "displayName": "Лариса Кожекина",
      "photoUrl": "",
      "userId": "00598619623793150933"
     },
     "user_tz": -180
    },
    "id": "_FF81zVB9EnS",
    "outputId": "deae4193-0bdc-47dd-ae4f-b96bd86fc22d"
   },
   "outputs": [
    {
     "data": {
      "text/plain": [
       "38.233440860215055"
      ]
     },
     "execution_count": 58,
     "metadata": {},
     "output_type": "execute_result"
    }
   ],
   "source": [
    "df[(df.Pclass == 1)].Age.mean()"
   ]
  },
  {
   "cell_type": "code",
   "execution_count": 59,
   "metadata": {
    "colab": {
     "base_uri": "https://localhost:8080/",
     "height": 35
    },
    "colab_type": "code",
    "executionInfo": {
     "elapsed": 1924,
     "status": "ok",
     "timestamp": 1567592066597,
     "user": {
      "displayName": "Лариса Кожекина",
      "photoUrl": "",
      "userId": "00598619623793150933"
     },
     "user_tz": -180
    },
    "id": "kjjZ6-qbzUVe",
    "outputId": "c8d3e754-8f04-4b67-dc4b-7ad624ceabca"
   },
   "outputs": [
    {
     "data": {
      "text/plain": [
       "29.87763005780347"
      ]
     },
     "execution_count": 59,
     "metadata": {},
     "output_type": "execute_result"
    }
   ],
   "source": [
    "df[(df.Pclass == 2)].Age.mean()"
   ]
  },
  {
   "cell_type": "code",
   "execution_count": 60,
   "metadata": {
    "colab": {
     "base_uri": "https://localhost:8080/",
     "height": 35
    },
    "colab_type": "code",
    "executionInfo": {
     "elapsed": 1919,
     "status": "ok",
     "timestamp": 1567592066598,
     "user": {
      "displayName": "Лариса Кожекина",
      "photoUrl": "",
      "userId": "00598619623793150933"
     },
     "user_tz": -180
    },
    "id": "8ey0hMZzzd3M",
    "outputId": "c578021e-c8f1-43e5-d65f-49e4a0c360d5"
   },
   "outputs": [
    {
     "data": {
      "text/plain": [
       "25.14061971830986"
      ]
     },
     "execution_count": 60,
     "metadata": {},
     "output_type": "execute_result"
    }
   ],
   "source": [
    "df[(df.Pclass == 3)].Age.mean()"
   ]
  },
  {
   "cell_type": "markdown",
   "metadata": {
    "colab_type": "text",
    "id": "XzwUK8sozykd"
   },
   "source": [
    "Задание 9. Подсчитайте средний возраст выживших мужчин, купивших билет во 2 класс"
   ]
  },
  {
   "cell_type": "code",
   "execution_count": 61,
   "metadata": {
    "colab": {
     "base_uri": "https://localhost:8080/",
     "height": 35
    },
    "colab_type": "code",
    "executionInfo": {
     "elapsed": 1912,
     "status": "ok",
     "timestamp": 1567592066598,
     "user": {
      "displayName": "Лариса Кожекина",
      "photoUrl": "",
      "userId": "00598619623793150933"
     },
     "user_tz": -180
    },
    "id": "C2_Rc8gaztw5",
    "outputId": "ad754a08-f78d-482a-ab6d-a514a0dc5f20"
   },
   "outputs": [
    {
     "data": {
      "text/plain": [
       "30.74070707070707"
      ]
     },
     "execution_count": 61,
     "metadata": {},
     "output_type": "execute_result"
    }
   ],
   "source": [
    "df[(df.Pclass == 2)&(df.Sex == 'male')].Age.mean()"
   ]
  },
  {
   "cell_type": "markdown",
   "metadata": {
    "colab_type": "text",
    "id": "caDgfRO1a3_j"
   },
   "source": [
    "Задание 10*. Оцените, как влияет на выживаемость пассажиров наличие их родственников на борту."
   ]
  },
  {
   "cell_type": "code",
   "execution_count": 67,
   "metadata": {
    "colab": {},
    "colab_type": "code",
    "id": "qpU4kmQWz_T6"
   },
   "outputs": [
    {
     "data": {
      "text/plain": [
       "0.47368421052631576"
      ]
     },
     "execution_count": 67,
     "metadata": {},
     "output_type": "execute_result"
    }
   ],
   "source": [
    "df[(df.Survived == 1)].SibSp.mean()"
   ]
  },
  {
   "cell_type": "code",
   "execution_count": 68,
   "metadata": {},
   "outputs": [
    {
     "data": {
      "text/plain": [
       "4"
      ]
     },
     "execution_count": 68,
     "metadata": {},
     "output_type": "execute_result"
    }
   ],
   "source": [
    "df[df.Survived == 1].SibSp.max()"
   ]
  },
  {
   "cell_type": "code",
   "execution_count": 69,
   "metadata": {},
   "outputs": [
    {
     "data": {
      "text/plain": [
       "0"
      ]
     },
     "execution_count": 69,
     "metadata": {},
     "output_type": "execute_result"
    }
   ],
   "source": [
    "df[df.Survived == 1].SibSp.min()"
   ]
  },
  {
   "cell_type": "code",
   "execution_count": null,
   "metadata": {},
   "outputs": [],
   "source": []
  }
 ],
 "metadata": {
  "colab": {
   "collapsed_sections": [],
   "name": "Lab1_pandas.ipynb",
   "provenance": [],
   "version": "0.3.2"
  },
  "kernelspec": {
   "display_name": "Python 3",
   "language": "python",
   "name": "python3"
  },
  "language_info": {
   "codemirror_mode": {
    "name": "ipython",
    "version": 3
   },
   "file_extension": ".py",
   "mimetype": "text/x-python",
   "name": "python",
   "nbconvert_exporter": "python",
   "pygments_lexer": "ipython3",
   "version": "3.7.3"
  }
 },
 "nbformat": 4,
 "nbformat_minor": 1
}
